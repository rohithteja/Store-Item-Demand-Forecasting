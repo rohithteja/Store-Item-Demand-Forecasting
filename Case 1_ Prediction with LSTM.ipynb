{
 "cells": [
  {
   "cell_type": "code",
   "execution_count": null,
   "metadata": {
    "id": "Nv_NdJEgYrW3"
   },
   "outputs": [],
   "source": [
    "pip install optuna # please install the required libraries to run the code"
   ]
  },
  {
   "cell_type": "markdown",
   "metadata": {
    "id": "-qVAgJTIwnqY"
   },
   "source": [
    "# Methodology\n",
    "\n",
    "The time series data consists of sales values from 10 different stores and 50 different items. This causes every timestamp to repeat 500 times. We can use data in this format and build a model (using XGBoost) in order to make forecasting for future sales, individually for very item and every store. \n",
    "\n",
    "If we are interested in using a neural network model like LSTM, this data needs to be transformed into a continuous time series without any repetitions of the dates. We can do this by constructing individual features for sales values relating to each store and every item. This will cause in adding 500 features to the data set but reduces the number of examples.\n",
    "\n",
    "### Original dimensions of train data: (913000, 4)\n",
    "\n",
    "### Dimension of train data after feature transform: (1826, 501)\n",
    "\n",
    "There is a drastic reduction of number of examples and we increased the number of features of the data.\n",
    "\n",
    "Neural network methods are able to make multi-values predictions in form of an array but methods like XGBoost needs to be trained on single value output."
   ]
  },
  {
   "cell_type": "code",
   "execution_count": null,
   "metadata": {
    "id": "aiVaHbNsLxI-"
   },
   "outputs": [],
   "source": [
    "# importing python libraries\n",
    "\n",
    "import pandas as pd\n",
    "import numpy as np\n",
    "import matplotlib.pyplot as plt\n",
    "import seaborn as sns\n",
    "import optuna\n",
    "from optuna.trial import TrialState\n",
    "from sklearn.metrics import mean_squared_error, r2_score, mean_absolute_error\n",
    "from math import sqrt\n",
    "from sklearn.preprocessing import MinMaxScaler\n",
    "from sklearn.model_selection import train_test_split\n",
    "import pickle\n",
    "from itertools import product, starmap\n",
    "from keras.models import Sequential, Model\n",
    "from keras.layers import *\n",
    "from keras.optimizers import Adam"
   ]
  },
  {
   "cell_type": "code",
   "execution_count": null,
   "metadata": {
    "id": "BdAiGbYALxLa"
   },
   "outputs": [],
   "source": [
    "# loading data using pandas\n",
    "\n",
    "train = pd.read_csv(\"data/train.csv\")\n",
    "test = pd.read_csv(\"data/test.csv\")"
   ]
  },
  {
   "cell_type": "code",
   "execution_count": null,
   "metadata": {
    "colab": {
     "base_uri": "https://localhost:8080/"
    },
    "executionInfo": {
     "elapsed": 221,
     "status": "ok",
     "timestamp": 1627134693856,
     "user": {
      "displayName": "Rohith Teja",
      "photoUrl": "https://lh3.googleusercontent.com/a-/AOh14Gi3ByILg-htuXhMIDK9-US5Z_24QJpZksJzfZX3=s64",
      "userId": "01155222072916958278"
     },
     "user_tz": -120
    },
    "id": "L3H_k1czwe8g",
    "outputId": "9e2c94d4-d320-42f4-b9b5-fb26ebd4c78d"
   },
   "outputs": [
    {
     "data": {
      "text/plain": [
       "(913000, 4)"
      ]
     },
     "execution_count": 10,
     "metadata": {
      "tags": []
     },
     "output_type": "execute_result"
    }
   ],
   "source": [
    "train.shape"
   ]
  },
  {
   "cell_type": "code",
   "execution_count": null,
   "metadata": {
    "colab": {
     "base_uri": "https://localhost:8080/"
    },
    "executionInfo": {
     "elapsed": 205,
     "status": "ok",
     "timestamp": 1627134992139,
     "user": {
      "displayName": "Rohith Teja",
      "photoUrl": "https://lh3.googleusercontent.com/a-/AOh14Gi3ByILg-htuXhMIDK9-US5Z_24QJpZksJzfZX3=s64",
      "userId": "01155222072916958278"
     },
     "user_tz": -120
    },
    "id": "dIWbv1flzZDQ",
    "outputId": "4009f273-a87a-4d40-b344-c61999a5483d"
   },
   "outputs": [
    {
     "data": {
      "text/plain": [
       "(45000, 4)"
      ]
     },
     "execution_count": 16,
     "metadata": {
      "tags": []
     },
     "output_type": "execute_result"
    }
   ],
   "source": [
    "test.shape"
   ]
  },
  {
   "cell_type": "markdown",
   "metadata": {
    "id": "9GhIdVNNzfr0"
   },
   "source": [
    "## Feature Engineering\n",
    "\n",
    "The feature engineering here is done in the following steps:\n",
    "\n",
    "1. Convert the date into datetime format which is easily understood by pandas and use this feature as index of the DataFrame.\n",
    "2. Create 500 sales features using *itertools* python library which iterates from 10 stores and 50 items, making a combination of every possible iteration. We then concat train and test datasets. This makes it simple to perform more feature engineering steps on both datasets at the same time. These features act as *y* variable in the machine learning model.\n",
    "3. For the *X* variable, more features are generated using ideas from the date. We can add one-hot encodings of weekdays and months (7 + 12 = 19) as features.\n",
    "4. Lag features are added to the dataset. (The image below explains the lag method)\n",
    "Ref: https://machinelearningmastery.com/basic-feature-engineering-time-series-data-python/\n",
    "\n",
    "This adds 500 more features to the data and finally we have 500+19 = 519 features which we can give as input to the machine learning model (like LSTM)\n",
    "\n",
    "![lag-explanation.png](data:image/png;base64,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)"
   ]
  },
  {
   "cell_type": "code",
   "execution_count": null,
   "metadata": {
    "id": "N6qryCyILxN1"
   },
   "outputs": [],
   "source": [
    "def datetime(df):\n",
    "  '''\n",
    "  Method to convert the date column which \n",
    "  would be easily understood by pandas\n",
    "  '''\n",
    "  df.date = pd.to_datetime(df.date).values\n",
    "  temp = df.set_index('date', drop=True)\n",
    "\n",
    "  return temp\n",
    "\n",
    "train = datetime(train)\n",
    "test = datetime(test)"
   ]
  },
  {
   "cell_type": "code",
   "execution_count": null,
   "metadata": {
    "id": "FHLb4BAJLxQT"
   },
   "outputs": [],
   "source": [
    "def store_item_sales_asfeatures(df):\n",
    "  '''\n",
    "  Adds all iterations of sales (stores x items) as features to the DataFrame\n",
    "  '''\n",
    "\n",
    "  temp = pd.DataFrame(index=df.index.unique())\n",
    "\n",
    "  for i, j in product(range(1,51), range(1,11)):\n",
    "    temp[f'item_{i}_store_{j}_sales'] = df[(df['item'] == i) & (df['store'] == j)]['sales'].values\n",
    "\n",
    "  return temp"
   ]
  },
  {
   "cell_type": "code",
   "execution_count": null,
   "metadata": {
    "id": "N0tVnTXjLxSa"
   },
   "outputs": [],
   "source": [
    "# adding features to train and test dataset\n",
    "\n",
    "df_train = store_item_sales_asfeatures(train)\n",
    "\n",
    "test['sales'] = np.zeros(test.shape[0]) # creates a dummy list of sales with 0 as values\n",
    "df_test = store_item_sales_asfeatures(test)\n",
    "\n",
    "df_test['is_test'] = np.repeat(True, df_test.shape[0])\n",
    "df_train['is_test'] = np.repeat(False, df_train.shape[0])\n",
    "df_total = pd.concat([df_train, df_test])"
   ]
  },
  {
   "cell_type": "code",
   "execution_count": null,
   "metadata": {
    "colab": {
     "base_uri": "https://localhost:8080/"
    },
    "executionInfo": {
     "elapsed": 206,
     "status": "ok",
     "timestamp": 1627134771299,
     "user": {
      "displayName": "Rohith Teja",
      "photoUrl": "https://lh3.googleusercontent.com/a-/AOh14Gi3ByILg-htuXhMIDK9-US5Z_24QJpZksJzfZX3=s64",
      "userId": "01155222072916958278"
     },
     "user_tz": -120
    },
    "id": "GSAuD2DZyi33",
    "outputId": "2cf1e301-cf85-454b-a500-d5793a9f7f06"
   },
   "outputs": [
    {
     "data": {
      "text/plain": [
       "(1826, 501)"
      ]
     },
     "execution_count": 15,
     "metadata": {
      "tags": []
     },
     "output_type": "execute_result"
    }
   ],
   "source": [
    "df_train.shape"
   ]
  },
  {
   "cell_type": "code",
   "execution_count": null,
   "metadata": {
    "colab": {
     "base_uri": "https://localhost:8080/"
    },
    "executionInfo": {
     "elapsed": 200,
     "status": "ok",
     "timestamp": 1627135411891,
     "user": {
      "displayName": "Rohith Teja",
      "photoUrl": "https://lh3.googleusercontent.com/a-/AOh14Gi3ByILg-htuXhMIDK9-US5Z_24QJpZksJzfZX3=s64",
      "userId": "01155222072916958278"
     },
     "user_tz": -120
    },
    "id": "A4LIc5cR0_AG",
    "outputId": "707a02d5-0642-48cc-8519-c5a63d58759e"
   },
   "outputs": [
    {
     "data": {
      "text/plain": [
       "(90, 501)"
      ]
     },
     "execution_count": 20,
     "metadata": {
      "tags": []
     },
     "output_type": "execute_result"
    }
   ],
   "source": [
    "df_test.shape"
   ]
  },
  {
   "cell_type": "code",
   "execution_count": null,
   "metadata": {
    "colab": {
     "base_uri": "https://localhost:8080/"
    },
    "executionInfo": {
     "elapsed": 189,
     "status": "ok",
     "timestamp": 1627135424115,
     "user": {
      "displayName": "Rohith Teja",
      "photoUrl": "https://lh3.googleusercontent.com/a-/AOh14Gi3ByILg-htuXhMIDK9-US5Z_24QJpZksJzfZX3=s64",
      "userId": "01155222072916958278"
     },
     "user_tz": -120
    },
    "id": "D8d8I3S91CJo",
    "outputId": "68f5b7b7-ae26-4034-8f5c-e0d1de72ab14"
   },
   "outputs": [
    {
     "data": {
      "text/plain": [
       "(1916, 501)"
      ]
     },
     "execution_count": 21,
     "metadata": {
      "tags": []
     },
     "output_type": "execute_result"
    }
   ],
   "source": [
    "df_total.shape # concatenating train and test"
   ]
  },
  {
   "cell_type": "code",
   "execution_count": null,
   "metadata": {
    "id": "vqGU9Ep6Ecqa"
   },
   "outputs": [],
   "source": [
    "# date related features like weekday and month are added to the dataset\n",
    "\n",
    "temp1 = pd.get_dummies(df_total.index.weekday, prefix='weekday')\n",
    "temp1.index = df_total.index\n",
    "\n",
    "temp2 = pd.get_dummies(df_total.index.month, prefix='month')\n",
    "temp2.index =  df_total.index\n",
    "\n",
    "df_total = pd.concat([temp1, temp2, df_total], axis=1)"
   ]
  },
  {
   "cell_type": "code",
   "execution_count": null,
   "metadata": {
    "colab": {
     "base_uri": "https://localhost:8080/"
    },
    "executionInfo": {
     "elapsed": 192,
     "status": "ok",
     "timestamp": 1627135571671,
     "user": {
      "displayName": "Rohith Teja",
      "photoUrl": "https://lh3.googleusercontent.com/a-/AOh14Gi3ByILg-htuXhMIDK9-US5Z_24QJpZksJzfZX3=s64",
      "userId": "01155222072916958278"
     },
     "user_tz": -120
    },
    "id": "LO9jXQxT1mGD",
    "outputId": "c79032de-ed54-41e3-9704-b5585b20b627"
   },
   "outputs": [
    {
     "data": {
      "text/plain": [
       "(1916, 520)"
      ]
     },
     "execution_count": 23,
     "metadata": {
      "tags": []
     },
     "output_type": "execute_result"
    }
   ],
   "source": [
    "df_total.shape # 19 more features added using weekdays and months"
   ]
  },
  {
   "cell_type": "code",
   "execution_count": null,
   "metadata": {
    "id": "t54eH1EBEcw2"
   },
   "outputs": [],
   "source": [
    "def lags(df, days):\n",
    "  '''\n",
    "  Lags are just shifted sales values by N steps.\n",
    "  This comes from the idea of using previous days sales value to predict the next day value.\n",
    "\n",
    "  We shift the sales features by 1 to make this happen, The 't' day sale value will be \n",
    "  used by the 't+1' day as an 'X' feature to predict the 'y' variable i.e, the forecast for next day.\n",
    "  '''\n",
    "\n",
    "  names = list(starmap(lambda i,s: f'item_{i}_store_{s}_sales', product(range(1,51), range(1,11))))\n",
    "\n",
    "  dfs = [df.copy()]\n",
    "\n",
    "  temp = pd.DataFrame(index=df.index.copy())\n",
    "\n",
    "  for i in names:\n",
    "      temp[str(i)+'_past_'+str(days)] = df[i].transform(lambda x: x.shift(days)) # lag features have \"past\" tag so we can filter them easiy\n",
    "\n",
    "  dfs.append(temp)\n",
    "  return pd.concat(dfs, axis=1, copy=False)\n",
    "\n",
    "df_total = lags(df_total, 1)\n",
    "df_total = df_total.dropna()  # remove 1st row as those are NaN values"
   ]
  },
  {
   "cell_type": "code",
   "execution_count": null,
   "metadata": {
    "colab": {
     "base_uri": "https://localhost:8080/"
    },
    "executionInfo": {
     "elapsed": 191,
     "status": "ok",
     "timestamp": 1627136350782,
     "user": {
      "displayName": "Rohith Teja",
      "photoUrl": "https://lh3.googleusercontent.com/a-/AOh14Gi3ByILg-htuXhMIDK9-US5Z_24QJpZksJzfZX3=s64",
      "userId": "01155222072916958278"
     },
     "user_tz": -120
    },
    "id": "hctIP27bNZdp",
    "outputId": "a1b4570c-c23e-4073-b526-b8aeb1694641"
   },
   "outputs": [
    {
     "data": {
      "text/plain": [
       "(1915, 1020)"
      ]
     },
     "execution_count": 28,
     "metadata": {
      "tags": []
     },
     "output_type": "execute_result"
    }
   ],
   "source": [
    "df_total.shape"
   ]
  },
  {
   "cell_type": "code",
   "execution_count": null,
   "metadata": {
    "colab": {
     "base_uri": "https://localhost:8080/",
     "height": 222
    },
    "executionInfo": {
     "elapsed": 203,
     "status": "ok",
     "timestamp": 1627136354247,
     "user": {
      "displayName": "Rohith Teja",
      "photoUrl": "https://lh3.googleusercontent.com/a-/AOh14Gi3ByILg-htuXhMIDK9-US5Z_24QJpZksJzfZX3=s64",
      "userId": "01155222072916958278"
     },
     "user_tz": -120
    },
    "id": "kt-mcPoD4YrR",
    "outputId": "e171ba46-5a72-47b8-9aff-edc037d2abef"
   },
   "outputs": [
    {
     "data": {
      "text/html": [
       "<div>\n",
       "<style scoped>\n",
       "    .dataframe tbody tr th:only-of-type {\n",
       "        vertical-align: middle;\n",
       "    }\n",
       "\n",
       "    .dataframe tbody tr th {\n",
       "        vertical-align: top;\n",
       "    }\n",
       "\n",
       "    .dataframe thead th {\n",
       "        text-align: right;\n",
       "    }\n",
       "</style>\n",
       "<table border=\"1\" class=\"dataframe\">\n",
       "  <thead>\n",
       "    <tr style=\"text-align: right;\">\n",
       "      <th></th>\n",
       "      <th>weekday_0</th>\n",
       "      <th>weekday_1</th>\n",
       "      <th>weekday_2</th>\n",
       "      <th>weekday_3</th>\n",
       "      <th>weekday_4</th>\n",
       "      <th>weekday_5</th>\n",
       "      <th>weekday_6</th>\n",
       "      <th>month_1</th>\n",
       "      <th>month_2</th>\n",
       "      <th>month_3</th>\n",
       "      <th>month_4</th>\n",
       "      <th>month_5</th>\n",
       "      <th>month_6</th>\n",
       "      <th>month_7</th>\n",
       "      <th>month_8</th>\n",
       "      <th>month_9</th>\n",
       "      <th>month_10</th>\n",
       "      <th>month_11</th>\n",
       "      <th>month_12</th>\n",
       "      <th>item_1_store_1_sales</th>\n",
       "      <th>item_1_store_2_sales</th>\n",
       "      <th>item_1_store_3_sales</th>\n",
       "      <th>item_1_store_4_sales</th>\n",
       "      <th>item_1_store_5_sales</th>\n",
       "      <th>item_1_store_6_sales</th>\n",
       "      <th>item_1_store_7_sales</th>\n",
       "      <th>item_1_store_8_sales</th>\n",
       "      <th>item_1_store_9_sales</th>\n",
       "      <th>item_1_store_10_sales</th>\n",
       "      <th>item_2_store_1_sales</th>\n",
       "      <th>item_2_store_2_sales</th>\n",
       "      <th>item_2_store_3_sales</th>\n",
       "      <th>item_2_store_4_sales</th>\n",
       "      <th>item_2_store_5_sales</th>\n",
       "      <th>item_2_store_6_sales</th>\n",
       "      <th>item_2_store_7_sales</th>\n",
       "      <th>item_2_store_8_sales</th>\n",
       "      <th>item_2_store_9_sales</th>\n",
       "      <th>item_2_store_10_sales</th>\n",
       "      <th>item_3_store_1_sales</th>\n",
       "      <th>...</th>\n",
       "      <th>item_47_store_1_sales_past_1</th>\n",
       "      <th>item_47_store_2_sales_past_1</th>\n",
       "      <th>item_47_store_3_sales_past_1</th>\n",
       "      <th>item_47_store_4_sales_past_1</th>\n",
       "      <th>item_47_store_5_sales_past_1</th>\n",
       "      <th>item_47_store_6_sales_past_1</th>\n",
       "      <th>item_47_store_7_sales_past_1</th>\n",
       "      <th>item_47_store_8_sales_past_1</th>\n",
       "      <th>item_47_store_9_sales_past_1</th>\n",
       "      <th>item_47_store_10_sales_past_1</th>\n",
       "      <th>item_48_store_1_sales_past_1</th>\n",
       "      <th>item_48_store_2_sales_past_1</th>\n",
       "      <th>item_48_store_3_sales_past_1</th>\n",
       "      <th>item_48_store_4_sales_past_1</th>\n",
       "      <th>item_48_store_5_sales_past_1</th>\n",
       "      <th>item_48_store_6_sales_past_1</th>\n",
       "      <th>item_48_store_7_sales_past_1</th>\n",
       "      <th>item_48_store_8_sales_past_1</th>\n",
       "      <th>item_48_store_9_sales_past_1</th>\n",
       "      <th>item_48_store_10_sales_past_1</th>\n",
       "      <th>item_49_store_1_sales_past_1</th>\n",
       "      <th>item_49_store_2_sales_past_1</th>\n",
       "      <th>item_49_store_3_sales_past_1</th>\n",
       "      <th>item_49_store_4_sales_past_1</th>\n",
       "      <th>item_49_store_5_sales_past_1</th>\n",
       "      <th>item_49_store_6_sales_past_1</th>\n",
       "      <th>item_49_store_7_sales_past_1</th>\n",
       "      <th>item_49_store_8_sales_past_1</th>\n",
       "      <th>item_49_store_9_sales_past_1</th>\n",
       "      <th>item_49_store_10_sales_past_1</th>\n",
       "      <th>item_50_store_1_sales_past_1</th>\n",
       "      <th>item_50_store_2_sales_past_1</th>\n",
       "      <th>item_50_store_3_sales_past_1</th>\n",
       "      <th>item_50_store_4_sales_past_1</th>\n",
       "      <th>item_50_store_5_sales_past_1</th>\n",
       "      <th>item_50_store_6_sales_past_1</th>\n",
       "      <th>item_50_store_7_sales_past_1</th>\n",
       "      <th>item_50_store_8_sales_past_1</th>\n",
       "      <th>item_50_store_9_sales_past_1</th>\n",
       "      <th>item_50_store_10_sales_past_1</th>\n",
       "    </tr>\n",
       "    <tr>\n",
       "      <th>date</th>\n",
       "      <th></th>\n",
       "      <th></th>\n",
       "      <th></th>\n",
       "      <th></th>\n",
       "      <th></th>\n",
       "      <th></th>\n",
       "      <th></th>\n",
       "      <th></th>\n",
       "      <th></th>\n",
       "      <th></th>\n",
       "      <th></th>\n",
       "      <th></th>\n",
       "      <th></th>\n",
       "      <th></th>\n",
       "      <th></th>\n",
       "      <th></th>\n",
       "      <th></th>\n",
       "      <th></th>\n",
       "      <th></th>\n",
       "      <th></th>\n",
       "      <th></th>\n",
       "      <th></th>\n",
       "      <th></th>\n",
       "      <th></th>\n",
       "      <th></th>\n",
       "      <th></th>\n",
       "      <th></th>\n",
       "      <th></th>\n",
       "      <th></th>\n",
       "      <th></th>\n",
       "      <th></th>\n",
       "      <th></th>\n",
       "      <th></th>\n",
       "      <th></th>\n",
       "      <th></th>\n",
       "      <th></th>\n",
       "      <th></th>\n",
       "      <th></th>\n",
       "      <th></th>\n",
       "      <th></th>\n",
       "      <th></th>\n",
       "      <th></th>\n",
       "      <th></th>\n",
       "      <th></th>\n",
       "      <th></th>\n",
       "      <th></th>\n",
       "      <th></th>\n",
       "      <th></th>\n",
       "      <th></th>\n",
       "      <th></th>\n",
       "      <th></th>\n",
       "      <th></th>\n",
       "      <th></th>\n",
       "      <th></th>\n",
       "      <th></th>\n",
       "      <th></th>\n",
       "      <th></th>\n",
       "      <th></th>\n",
       "      <th></th>\n",
       "      <th></th>\n",
       "      <th></th>\n",
       "      <th></th>\n",
       "      <th></th>\n",
       "      <th></th>\n",
       "      <th></th>\n",
       "      <th></th>\n",
       "      <th></th>\n",
       "      <th></th>\n",
       "      <th></th>\n",
       "      <th></th>\n",
       "      <th></th>\n",
       "      <th></th>\n",
       "      <th></th>\n",
       "      <th></th>\n",
       "      <th></th>\n",
       "      <th></th>\n",
       "      <th></th>\n",
       "      <th></th>\n",
       "      <th></th>\n",
       "      <th></th>\n",
       "      <th></th>\n",
       "    </tr>\n",
       "  </thead>\n",
       "  <tbody>\n",
       "    <tr>\n",
       "      <th>2013-01-02</th>\n",
       "      <td>0</td>\n",
       "      <td>0</td>\n",
       "      <td>1</td>\n",
       "      <td>0</td>\n",
       "      <td>0</td>\n",
       "      <td>0</td>\n",
       "      <td>0</td>\n",
       "      <td>1</td>\n",
       "      <td>0</td>\n",
       "      <td>0</td>\n",
       "      <td>0</td>\n",
       "      <td>0</td>\n",
       "      <td>0</td>\n",
       "      <td>0</td>\n",
       "      <td>0</td>\n",
       "      <td>0</td>\n",
       "      <td>0</td>\n",
       "      <td>0</td>\n",
       "      <td>0</td>\n",
       "      <td>11.0</td>\n",
       "      <td>16.0</td>\n",
       "      <td>8.0</td>\n",
       "      <td>12.0</td>\n",
       "      <td>9.0</td>\n",
       "      <td>6.0</td>\n",
       "      <td>4.0</td>\n",
       "      <td>10.0</td>\n",
       "      <td>9.0</td>\n",
       "      <td>14.0</td>\n",
       "      <td>43.0</td>\n",
       "      <td>33.0</td>\n",
       "      <td>27.0</td>\n",
       "      <td>28.0</td>\n",
       "      <td>22.0</td>\n",
       "      <td>18.0</td>\n",
       "      <td>23.0</td>\n",
       "      <td>25.0</td>\n",
       "      <td>26.0</td>\n",
       "      <td>34.0</td>\n",
       "      <td>30.0</td>\n",
       "      <td>...</td>\n",
       "      <td>17.0</td>\n",
       "      <td>12.0</td>\n",
       "      <td>10.0</td>\n",
       "      <td>23.0</td>\n",
       "      <td>9.0</td>\n",
       "      <td>5.0</td>\n",
       "      <td>4.0</td>\n",
       "      <td>19.0</td>\n",
       "      <td>6.0</td>\n",
       "      <td>11.0</td>\n",
       "      <td>21.0</td>\n",
       "      <td>45.0</td>\n",
       "      <td>28.0</td>\n",
       "      <td>34.0</td>\n",
       "      <td>21.0</td>\n",
       "      <td>21.0</td>\n",
       "      <td>27.0</td>\n",
       "      <td>27.0</td>\n",
       "      <td>28.0</td>\n",
       "      <td>25.0</td>\n",
       "      <td>18.0</td>\n",
       "      <td>29.0</td>\n",
       "      <td>21.0</td>\n",
       "      <td>12.0</td>\n",
       "      <td>9.0</td>\n",
       "      <td>11.0</td>\n",
       "      <td>19.0</td>\n",
       "      <td>12.0</td>\n",
       "      <td>11.0</td>\n",
       "      <td>17.0</td>\n",
       "      <td>30.0</td>\n",
       "      <td>43.0</td>\n",
       "      <td>45.0</td>\n",
       "      <td>38.0</td>\n",
       "      <td>19.0</td>\n",
       "      <td>20.0</td>\n",
       "      <td>21.0</td>\n",
       "      <td>45.0</td>\n",
       "      <td>36.0</td>\n",
       "      <td>33.0</td>\n",
       "    </tr>\n",
       "    <tr>\n",
       "      <th>2013-01-03</th>\n",
       "      <td>0</td>\n",
       "      <td>0</td>\n",
       "      <td>0</td>\n",
       "      <td>1</td>\n",
       "      <td>0</td>\n",
       "      <td>0</td>\n",
       "      <td>0</td>\n",
       "      <td>1</td>\n",
       "      <td>0</td>\n",
       "      <td>0</td>\n",
       "      <td>0</td>\n",
       "      <td>0</td>\n",
       "      <td>0</td>\n",
       "      <td>0</td>\n",
       "      <td>0</td>\n",
       "      <td>0</td>\n",
       "      <td>0</td>\n",
       "      <td>0</td>\n",
       "      <td>0</td>\n",
       "      <td>14.0</td>\n",
       "      <td>16.0</td>\n",
       "      <td>10.0</td>\n",
       "      <td>8.0</td>\n",
       "      <td>12.0</td>\n",
       "      <td>11.0</td>\n",
       "      <td>8.0</td>\n",
       "      <td>12.0</td>\n",
       "      <td>20.0</td>\n",
       "      <td>16.0</td>\n",
       "      <td>23.0</td>\n",
       "      <td>46.0</td>\n",
       "      <td>38.0</td>\n",
       "      <td>37.0</td>\n",
       "      <td>26.0</td>\n",
       "      <td>20.0</td>\n",
       "      <td>13.0</td>\n",
       "      <td>34.0</td>\n",
       "      <td>33.0</td>\n",
       "      <td>34.0</td>\n",
       "      <td>14.0</td>\n",
       "      <td>...</td>\n",
       "      <td>15.0</td>\n",
       "      <td>13.0</td>\n",
       "      <td>12.0</td>\n",
       "      <td>11.0</td>\n",
       "      <td>10.0</td>\n",
       "      <td>10.0</td>\n",
       "      <td>4.0</td>\n",
       "      <td>16.0</td>\n",
       "      <td>14.0</td>\n",
       "      <td>13.0</td>\n",
       "      <td>26.0</td>\n",
       "      <td>37.0</td>\n",
       "      <td>32.0</td>\n",
       "      <td>26.0</td>\n",
       "      <td>22.0</td>\n",
       "      <td>20.0</td>\n",
       "      <td>21.0</td>\n",
       "      <td>35.0</td>\n",
       "      <td>38.0</td>\n",
       "      <td>24.0</td>\n",
       "      <td>10.0</td>\n",
       "      <td>25.0</td>\n",
       "      <td>14.0</td>\n",
       "      <td>18.0</td>\n",
       "      <td>13.0</td>\n",
       "      <td>10.0</td>\n",
       "      <td>13.0</td>\n",
       "      <td>27.0</td>\n",
       "      <td>16.0</td>\n",
       "      <td>13.0</td>\n",
       "      <td>32.0</td>\n",
       "      <td>57.0</td>\n",
       "      <td>47.0</td>\n",
       "      <td>35.0</td>\n",
       "      <td>25.0</td>\n",
       "      <td>23.0</td>\n",
       "      <td>30.0</td>\n",
       "      <td>54.0</td>\n",
       "      <td>44.0</td>\n",
       "      <td>37.0</td>\n",
       "    </tr>\n",
       "  </tbody>\n",
       "</table>\n",
       "<p>2 rows × 1020 columns</p>\n",
       "</div>"
      ],
      "text/plain": [
       "            weekday_0  ...  item_50_store_10_sales_past_1\n",
       "date                   ...                               \n",
       "2013-01-02          0  ...                           33.0\n",
       "2013-01-03          0  ...                           37.0\n",
       "\n",
       "[2 rows x 1020 columns]"
      ]
     },
     "execution_count": 29,
     "metadata": {
      "tags": []
     },
     "output_type": "execute_result"
    }
   ],
   "source": [
    "df_total.head(2)"
   ]
  },
  {
   "cell_type": "code",
   "execution_count": null,
   "metadata": {
    "id": "pIfb3zfCFMgo"
   },
   "outputs": [],
   "source": [
    "# reordering columns\n",
    "\n",
    "sales_columns = [i for i in df_total.columns if '_sales' in i and '_sales_' not in i]\n",
    "lag_sales_columns = [i for i in df_total.columns if '_sales_' in i]\n",
    "other_columns = [i for i in df_total.columns if i not in set(sales_columns) and i not in set(lag_sales_columns)]\n",
    "\n",
    "sales_cols = sorted(sales_columns)\n",
    "lag_sales_cols = sorted(lag_sales_columns)\n",
    "\n",
    "new_order = other_columns + lag_sales_columns + sales_columns\n",
    "\n",
    "df_total = df_total.reindex(columns=new_order)"
   ]
  },
  {
   "cell_type": "code",
   "execution_count": null,
   "metadata": {
    "colab": {
     "base_uri": "https://localhost:8080/",
     "height": 364
    },
    "executionInfo": {
     "elapsed": 211,
     "status": "ok",
     "timestamp": 1627127482933,
     "user": {
      "displayName": "Rohith Teja",
      "photoUrl": "https://lh3.googleusercontent.com/a-/AOh14Gi3ByILg-htuXhMIDK9-US5Z_24QJpZksJzfZX3=s64",
      "userId": "01155222072916958278"
     },
     "user_tz": -120
    },
    "id": "PRTaTzIhFMlh",
    "outputId": "df3930ef-9aa1-4652-ddde-ec75a825f9e5"
   },
   "outputs": [
    {
     "data": {
      "text/html": [
       "<div>\n",
       "<style scoped>\n",
       "    .dataframe tbody tr th:only-of-type {\n",
       "        vertical-align: middle;\n",
       "    }\n",
       "\n",
       "    .dataframe tbody tr th {\n",
       "        vertical-align: top;\n",
       "    }\n",
       "\n",
       "    .dataframe thead th {\n",
       "        text-align: right;\n",
       "    }\n",
       "</style>\n",
       "<table border=\"1\" class=\"dataframe\">\n",
       "  <thead>\n",
       "    <tr style=\"text-align: right;\">\n",
       "      <th></th>\n",
       "      <th>weekday_0</th>\n",
       "      <th>weekday_1</th>\n",
       "      <th>weekday_2</th>\n",
       "      <th>weekday_3</th>\n",
       "      <th>weekday_4</th>\n",
       "      <th>weekday_5</th>\n",
       "      <th>weekday_6</th>\n",
       "      <th>month_1</th>\n",
       "      <th>month_2</th>\n",
       "      <th>month_3</th>\n",
       "      <th>month_4</th>\n",
       "      <th>month_5</th>\n",
       "      <th>month_6</th>\n",
       "      <th>month_7</th>\n",
       "      <th>month_8</th>\n",
       "      <th>month_9</th>\n",
       "      <th>month_10</th>\n",
       "      <th>month_11</th>\n",
       "      <th>month_12</th>\n",
       "      <th>is_test</th>\n",
       "      <th>item_1_store_1_sales_past_1</th>\n",
       "      <th>item_1_store_2_sales_past_1</th>\n",
       "      <th>item_1_store_3_sales_past_1</th>\n",
       "      <th>item_1_store_4_sales_past_1</th>\n",
       "      <th>item_1_store_5_sales_past_1</th>\n",
       "      <th>item_1_store_6_sales_past_1</th>\n",
       "      <th>item_1_store_7_sales_past_1</th>\n",
       "      <th>item_1_store_8_sales_past_1</th>\n",
       "      <th>item_1_store_9_sales_past_1</th>\n",
       "      <th>item_1_store_10_sales_past_1</th>\n",
       "      <th>item_2_store_1_sales_past_1</th>\n",
       "      <th>item_2_store_2_sales_past_1</th>\n",
       "      <th>item_2_store_3_sales_past_1</th>\n",
       "      <th>item_2_store_4_sales_past_1</th>\n",
       "      <th>item_2_store_5_sales_past_1</th>\n",
       "      <th>item_2_store_6_sales_past_1</th>\n",
       "      <th>item_2_store_7_sales_past_1</th>\n",
       "      <th>item_2_store_8_sales_past_1</th>\n",
       "      <th>item_2_store_9_sales_past_1</th>\n",
       "      <th>item_2_store_10_sales_past_1</th>\n",
       "      <th>...</th>\n",
       "      <th>item_47_store_1_sales</th>\n",
       "      <th>item_47_store_2_sales</th>\n",
       "      <th>item_47_store_3_sales</th>\n",
       "      <th>item_47_store_4_sales</th>\n",
       "      <th>item_47_store_5_sales</th>\n",
       "      <th>item_47_store_6_sales</th>\n",
       "      <th>item_47_store_7_sales</th>\n",
       "      <th>item_47_store_8_sales</th>\n",
       "      <th>item_47_store_9_sales</th>\n",
       "      <th>item_47_store_10_sales</th>\n",
       "      <th>item_48_store_1_sales</th>\n",
       "      <th>item_48_store_2_sales</th>\n",
       "      <th>item_48_store_3_sales</th>\n",
       "      <th>item_48_store_4_sales</th>\n",
       "      <th>item_48_store_5_sales</th>\n",
       "      <th>item_48_store_6_sales</th>\n",
       "      <th>item_48_store_7_sales</th>\n",
       "      <th>item_48_store_8_sales</th>\n",
       "      <th>item_48_store_9_sales</th>\n",
       "      <th>item_48_store_10_sales</th>\n",
       "      <th>item_49_store_1_sales</th>\n",
       "      <th>item_49_store_2_sales</th>\n",
       "      <th>item_49_store_3_sales</th>\n",
       "      <th>item_49_store_4_sales</th>\n",
       "      <th>item_49_store_5_sales</th>\n",
       "      <th>item_49_store_6_sales</th>\n",
       "      <th>item_49_store_7_sales</th>\n",
       "      <th>item_49_store_8_sales</th>\n",
       "      <th>item_49_store_9_sales</th>\n",
       "      <th>item_49_store_10_sales</th>\n",
       "      <th>item_50_store_1_sales</th>\n",
       "      <th>item_50_store_2_sales</th>\n",
       "      <th>item_50_store_3_sales</th>\n",
       "      <th>item_50_store_4_sales</th>\n",
       "      <th>item_50_store_5_sales</th>\n",
       "      <th>item_50_store_6_sales</th>\n",
       "      <th>item_50_store_7_sales</th>\n",
       "      <th>item_50_store_8_sales</th>\n",
       "      <th>item_50_store_9_sales</th>\n",
       "      <th>item_50_store_10_sales</th>\n",
       "    </tr>\n",
       "    <tr>\n",
       "      <th>date</th>\n",
       "      <th></th>\n",
       "      <th></th>\n",
       "      <th></th>\n",
       "      <th></th>\n",
       "      <th></th>\n",
       "      <th></th>\n",
       "      <th></th>\n",
       "      <th></th>\n",
       "      <th></th>\n",
       "      <th></th>\n",
       "      <th></th>\n",
       "      <th></th>\n",
       "      <th></th>\n",
       "      <th></th>\n",
       "      <th></th>\n",
       "      <th></th>\n",
       "      <th></th>\n",
       "      <th></th>\n",
       "      <th></th>\n",
       "      <th></th>\n",
       "      <th></th>\n",
       "      <th></th>\n",
       "      <th></th>\n",
       "      <th></th>\n",
       "      <th></th>\n",
       "      <th></th>\n",
       "      <th></th>\n",
       "      <th></th>\n",
       "      <th></th>\n",
       "      <th></th>\n",
       "      <th></th>\n",
       "      <th></th>\n",
       "      <th></th>\n",
       "      <th></th>\n",
       "      <th></th>\n",
       "      <th></th>\n",
       "      <th></th>\n",
       "      <th></th>\n",
       "      <th></th>\n",
       "      <th></th>\n",
       "      <th></th>\n",
       "      <th></th>\n",
       "      <th></th>\n",
       "      <th></th>\n",
       "      <th></th>\n",
       "      <th></th>\n",
       "      <th></th>\n",
       "      <th></th>\n",
       "      <th></th>\n",
       "      <th></th>\n",
       "      <th></th>\n",
       "      <th></th>\n",
       "      <th></th>\n",
       "      <th></th>\n",
       "      <th></th>\n",
       "      <th></th>\n",
       "      <th></th>\n",
       "      <th></th>\n",
       "      <th></th>\n",
       "      <th></th>\n",
       "      <th></th>\n",
       "      <th></th>\n",
       "      <th></th>\n",
       "      <th></th>\n",
       "      <th></th>\n",
       "      <th></th>\n",
       "      <th></th>\n",
       "      <th></th>\n",
       "      <th></th>\n",
       "      <th></th>\n",
       "      <th></th>\n",
       "      <th></th>\n",
       "      <th></th>\n",
       "      <th></th>\n",
       "      <th></th>\n",
       "      <th></th>\n",
       "      <th></th>\n",
       "      <th></th>\n",
       "      <th></th>\n",
       "      <th></th>\n",
       "      <th></th>\n",
       "    </tr>\n",
       "  </thead>\n",
       "  <tbody>\n",
       "    <tr>\n",
       "      <th>2013-01-02</th>\n",
       "      <td>0</td>\n",
       "      <td>0</td>\n",
       "      <td>1</td>\n",
       "      <td>0</td>\n",
       "      <td>0</td>\n",
       "      <td>0</td>\n",
       "      <td>0</td>\n",
       "      <td>1</td>\n",
       "      <td>0</td>\n",
       "      <td>0</td>\n",
       "      <td>0</td>\n",
       "      <td>0</td>\n",
       "      <td>0</td>\n",
       "      <td>0</td>\n",
       "      <td>0</td>\n",
       "      <td>0</td>\n",
       "      <td>0</td>\n",
       "      <td>0</td>\n",
       "      <td>0</td>\n",
       "      <td>False</td>\n",
       "      <td>13.0</td>\n",
       "      <td>12.0</td>\n",
       "      <td>19.0</td>\n",
       "      <td>10.0</td>\n",
       "      <td>11.0</td>\n",
       "      <td>20.0</td>\n",
       "      <td>7.0</td>\n",
       "      <td>16.0</td>\n",
       "      <td>11.0</td>\n",
       "      <td>14.0</td>\n",
       "      <td>33.0</td>\n",
       "      <td>41.0</td>\n",
       "      <td>43.0</td>\n",
       "      <td>30.0</td>\n",
       "      <td>26.0</td>\n",
       "      <td>27.0</td>\n",
       "      <td>21.0</td>\n",
       "      <td>39.0</td>\n",
       "      <td>31.0</td>\n",
       "      <td>36.0</td>\n",
       "      <td>...</td>\n",
       "      <td>15.0</td>\n",
       "      <td>13.0</td>\n",
       "      <td>12.0</td>\n",
       "      <td>11.0</td>\n",
       "      <td>10.0</td>\n",
       "      <td>10.0</td>\n",
       "      <td>4.0</td>\n",
       "      <td>16.0</td>\n",
       "      <td>14.0</td>\n",
       "      <td>13.0</td>\n",
       "      <td>26.0</td>\n",
       "      <td>37.0</td>\n",
       "      <td>32.0</td>\n",
       "      <td>26.0</td>\n",
       "      <td>22.0</td>\n",
       "      <td>20.0</td>\n",
       "      <td>21.0</td>\n",
       "      <td>35.0</td>\n",
       "      <td>38.0</td>\n",
       "      <td>24.0</td>\n",
       "      <td>10.0</td>\n",
       "      <td>25.0</td>\n",
       "      <td>14.0</td>\n",
       "      <td>18.0</td>\n",
       "      <td>13.0</td>\n",
       "      <td>10.0</td>\n",
       "      <td>13.0</td>\n",
       "      <td>27.0</td>\n",
       "      <td>16.0</td>\n",
       "      <td>13.0</td>\n",
       "      <td>32.0</td>\n",
       "      <td>57.0</td>\n",
       "      <td>47.0</td>\n",
       "      <td>35.0</td>\n",
       "      <td>25.0</td>\n",
       "      <td>23.0</td>\n",
       "      <td>30.0</td>\n",
       "      <td>54.0</td>\n",
       "      <td>44.0</td>\n",
       "      <td>37.0</td>\n",
       "    </tr>\n",
       "    <tr>\n",
       "      <th>2013-01-03</th>\n",
       "      <td>0</td>\n",
       "      <td>0</td>\n",
       "      <td>0</td>\n",
       "      <td>1</td>\n",
       "      <td>0</td>\n",
       "      <td>0</td>\n",
       "      <td>0</td>\n",
       "      <td>1</td>\n",
       "      <td>0</td>\n",
       "      <td>0</td>\n",
       "      <td>0</td>\n",
       "      <td>0</td>\n",
       "      <td>0</td>\n",
       "      <td>0</td>\n",
       "      <td>0</td>\n",
       "      <td>0</td>\n",
       "      <td>0</td>\n",
       "      <td>0</td>\n",
       "      <td>0</td>\n",
       "      <td>False</td>\n",
       "      <td>11.0</td>\n",
       "      <td>16.0</td>\n",
       "      <td>8.0</td>\n",
       "      <td>12.0</td>\n",
       "      <td>9.0</td>\n",
       "      <td>6.0</td>\n",
       "      <td>4.0</td>\n",
       "      <td>10.0</td>\n",
       "      <td>9.0</td>\n",
       "      <td>14.0</td>\n",
       "      <td>43.0</td>\n",
       "      <td>33.0</td>\n",
       "      <td>27.0</td>\n",
       "      <td>28.0</td>\n",
       "      <td>22.0</td>\n",
       "      <td>18.0</td>\n",
       "      <td>23.0</td>\n",
       "      <td>25.0</td>\n",
       "      <td>26.0</td>\n",
       "      <td>34.0</td>\n",
       "      <td>...</td>\n",
       "      <td>5.0</td>\n",
       "      <td>5.0</td>\n",
       "      <td>13.0</td>\n",
       "      <td>11.0</td>\n",
       "      <td>14.0</td>\n",
       "      <td>10.0</td>\n",
       "      <td>4.0</td>\n",
       "      <td>8.0</td>\n",
       "      <td>18.0</td>\n",
       "      <td>16.0</td>\n",
       "      <td>25.0</td>\n",
       "      <td>45.0</td>\n",
       "      <td>40.0</td>\n",
       "      <td>33.0</td>\n",
       "      <td>24.0</td>\n",
       "      <td>27.0</td>\n",
       "      <td>11.0</td>\n",
       "      <td>22.0</td>\n",
       "      <td>24.0</td>\n",
       "      <td>29.0</td>\n",
       "      <td>17.0</td>\n",
       "      <td>30.0</td>\n",
       "      <td>22.0</td>\n",
       "      <td>22.0</td>\n",
       "      <td>16.0</td>\n",
       "      <td>16.0</td>\n",
       "      <td>9.0</td>\n",
       "      <td>16.0</td>\n",
       "      <td>20.0</td>\n",
       "      <td>19.0</td>\n",
       "      <td>25.0</td>\n",
       "      <td>45.0</td>\n",
       "      <td>39.0</td>\n",
       "      <td>32.0</td>\n",
       "      <td>28.0</td>\n",
       "      <td>38.0</td>\n",
       "      <td>20.0</td>\n",
       "      <td>54.0</td>\n",
       "      <td>29.0</td>\n",
       "      <td>46.0</td>\n",
       "    </tr>\n",
       "    <tr>\n",
       "      <th>2013-01-04</th>\n",
       "      <td>0</td>\n",
       "      <td>0</td>\n",
       "      <td>0</td>\n",
       "      <td>0</td>\n",
       "      <td>1</td>\n",
       "      <td>0</td>\n",
       "      <td>0</td>\n",
       "      <td>1</td>\n",
       "      <td>0</td>\n",
       "      <td>0</td>\n",
       "      <td>0</td>\n",
       "      <td>0</td>\n",
       "      <td>0</td>\n",
       "      <td>0</td>\n",
       "      <td>0</td>\n",
       "      <td>0</td>\n",
       "      <td>0</td>\n",
       "      <td>0</td>\n",
       "      <td>0</td>\n",
       "      <td>False</td>\n",
       "      <td>14.0</td>\n",
       "      <td>16.0</td>\n",
       "      <td>10.0</td>\n",
       "      <td>8.0</td>\n",
       "      <td>12.0</td>\n",
       "      <td>11.0</td>\n",
       "      <td>8.0</td>\n",
       "      <td>12.0</td>\n",
       "      <td>20.0</td>\n",
       "      <td>16.0</td>\n",
       "      <td>23.0</td>\n",
       "      <td>46.0</td>\n",
       "      <td>38.0</td>\n",
       "      <td>37.0</td>\n",
       "      <td>26.0</td>\n",
       "      <td>20.0</td>\n",
       "      <td>13.0</td>\n",
       "      <td>34.0</td>\n",
       "      <td>33.0</td>\n",
       "      <td>34.0</td>\n",
       "      <td>...</td>\n",
       "      <td>13.0</td>\n",
       "      <td>19.0</td>\n",
       "      <td>5.0</td>\n",
       "      <td>18.0</td>\n",
       "      <td>10.0</td>\n",
       "      <td>11.0</td>\n",
       "      <td>9.0</td>\n",
       "      <td>17.0</td>\n",
       "      <td>15.0</td>\n",
       "      <td>11.0</td>\n",
       "      <td>26.0</td>\n",
       "      <td>32.0</td>\n",
       "      <td>39.0</td>\n",
       "      <td>26.0</td>\n",
       "      <td>34.0</td>\n",
       "      <td>21.0</td>\n",
       "      <td>17.0</td>\n",
       "      <td>32.0</td>\n",
       "      <td>30.0</td>\n",
       "      <td>39.0</td>\n",
       "      <td>22.0</td>\n",
       "      <td>20.0</td>\n",
       "      <td>26.0</td>\n",
       "      <td>17.0</td>\n",
       "      <td>12.0</td>\n",
       "      <td>18.0</td>\n",
       "      <td>9.0</td>\n",
       "      <td>18.0</td>\n",
       "      <td>19.0</td>\n",
       "      <td>23.0</td>\n",
       "      <td>32.0</td>\n",
       "      <td>45.0</td>\n",
       "      <td>48.0</td>\n",
       "      <td>36.0</td>\n",
       "      <td>27.0</td>\n",
       "      <td>33.0</td>\n",
       "      <td>27.0</td>\n",
       "      <td>52.0</td>\n",
       "      <td>43.0</td>\n",
       "      <td>51.0</td>\n",
       "    </tr>\n",
       "    <tr>\n",
       "      <th>2013-01-05</th>\n",
       "      <td>0</td>\n",
       "      <td>0</td>\n",
       "      <td>0</td>\n",
       "      <td>0</td>\n",
       "      <td>0</td>\n",
       "      <td>1</td>\n",
       "      <td>0</td>\n",
       "      <td>1</td>\n",
       "      <td>0</td>\n",
       "      <td>0</td>\n",
       "      <td>0</td>\n",
       "      <td>0</td>\n",
       "      <td>0</td>\n",
       "      <td>0</td>\n",
       "      <td>0</td>\n",
       "      <td>0</td>\n",
       "      <td>0</td>\n",
       "      <td>0</td>\n",
       "      <td>0</td>\n",
       "      <td>False</td>\n",
       "      <td>13.0</td>\n",
       "      <td>20.0</td>\n",
       "      <td>15.0</td>\n",
       "      <td>15.0</td>\n",
       "      <td>8.0</td>\n",
       "      <td>7.0</td>\n",
       "      <td>7.0</td>\n",
       "      <td>21.0</td>\n",
       "      <td>22.0</td>\n",
       "      <td>17.0</td>\n",
       "      <td>18.0</td>\n",
       "      <td>50.0</td>\n",
       "      <td>35.0</td>\n",
       "      <td>44.0</td>\n",
       "      <td>23.0</td>\n",
       "      <td>24.0</td>\n",
       "      <td>34.0</td>\n",
       "      <td>39.0</td>\n",
       "      <td>42.0</td>\n",
       "      <td>50.0</td>\n",
       "      <td>...</td>\n",
       "      <td>12.0</td>\n",
       "      <td>18.0</td>\n",
       "      <td>14.0</td>\n",
       "      <td>18.0</td>\n",
       "      <td>7.0</td>\n",
       "      <td>9.0</td>\n",
       "      <td>8.0</td>\n",
       "      <td>18.0</td>\n",
       "      <td>13.0</td>\n",
       "      <td>16.0</td>\n",
       "      <td>28.0</td>\n",
       "      <td>53.0</td>\n",
       "      <td>47.0</td>\n",
       "      <td>33.0</td>\n",
       "      <td>24.0</td>\n",
       "      <td>24.0</td>\n",
       "      <td>28.0</td>\n",
       "      <td>40.0</td>\n",
       "      <td>33.0</td>\n",
       "      <td>34.0</td>\n",
       "      <td>15.0</td>\n",
       "      <td>20.0</td>\n",
       "      <td>22.0</td>\n",
       "      <td>19.0</td>\n",
       "      <td>19.0</td>\n",
       "      <td>13.0</td>\n",
       "      <td>12.0</td>\n",
       "      <td>21.0</td>\n",
       "      <td>16.0</td>\n",
       "      <td>22.0</td>\n",
       "      <td>35.0</td>\n",
       "      <td>55.0</td>\n",
       "      <td>46.0</td>\n",
       "      <td>47.0</td>\n",
       "      <td>31.0</td>\n",
       "      <td>33.0</td>\n",
       "      <td>18.0</td>\n",
       "      <td>48.0</td>\n",
       "      <td>53.0</td>\n",
       "      <td>41.0</td>\n",
       "    </tr>\n",
       "    <tr>\n",
       "      <th>2013-01-06</th>\n",
       "      <td>0</td>\n",
       "      <td>0</td>\n",
       "      <td>0</td>\n",
       "      <td>0</td>\n",
       "      <td>0</td>\n",
       "      <td>0</td>\n",
       "      <td>1</td>\n",
       "      <td>1</td>\n",
       "      <td>0</td>\n",
       "      <td>0</td>\n",
       "      <td>0</td>\n",
       "      <td>0</td>\n",
       "      <td>0</td>\n",
       "      <td>0</td>\n",
       "      <td>0</td>\n",
       "      <td>0</td>\n",
       "      <td>0</td>\n",
       "      <td>0</td>\n",
       "      <td>0</td>\n",
       "      <td>False</td>\n",
       "      <td>10.0</td>\n",
       "      <td>16.0</td>\n",
       "      <td>22.0</td>\n",
       "      <td>19.0</td>\n",
       "      <td>13.0</td>\n",
       "      <td>12.0</td>\n",
       "      <td>8.0</td>\n",
       "      <td>15.0</td>\n",
       "      <td>22.0</td>\n",
       "      <td>12.0</td>\n",
       "      <td>34.0</td>\n",
       "      <td>44.0</td>\n",
       "      <td>47.0</td>\n",
       "      <td>36.0</td>\n",
       "      <td>22.0</td>\n",
       "      <td>32.0</td>\n",
       "      <td>25.0</td>\n",
       "      <td>45.0</td>\n",
       "      <td>50.0</td>\n",
       "      <td>42.0</td>\n",
       "      <td>...</td>\n",
       "      <td>13.0</td>\n",
       "      <td>25.0</td>\n",
       "      <td>14.0</td>\n",
       "      <td>16.0</td>\n",
       "      <td>12.0</td>\n",
       "      <td>17.0</td>\n",
       "      <td>17.0</td>\n",
       "      <td>18.0</td>\n",
       "      <td>14.0</td>\n",
       "      <td>17.0</td>\n",
       "      <td>38.0</td>\n",
       "      <td>45.0</td>\n",
       "      <td>28.0</td>\n",
       "      <td>41.0</td>\n",
       "      <td>21.0</td>\n",
       "      <td>26.0</td>\n",
       "      <td>24.0</td>\n",
       "      <td>46.0</td>\n",
       "      <td>38.0</td>\n",
       "      <td>47.0</td>\n",
       "      <td>19.0</td>\n",
       "      <td>23.0</td>\n",
       "      <td>36.0</td>\n",
       "      <td>14.0</td>\n",
       "      <td>14.0</td>\n",
       "      <td>19.0</td>\n",
       "      <td>14.0</td>\n",
       "      <td>22.0</td>\n",
       "      <td>20.0</td>\n",
       "      <td>23.0</td>\n",
       "      <td>40.0</td>\n",
       "      <td>56.0</td>\n",
       "      <td>52.0</td>\n",
       "      <td>43.0</td>\n",
       "      <td>24.0</td>\n",
       "      <td>28.0</td>\n",
       "      <td>26.0</td>\n",
       "      <td>51.0</td>\n",
       "      <td>38.0</td>\n",
       "      <td>41.0</td>\n",
       "    </tr>\n",
       "  </tbody>\n",
       "</table>\n",
       "<p>5 rows × 1020 columns</p>\n",
       "</div>"
      ],
      "text/plain": [
       "            weekday_0  weekday_1  ...  item_50_store_9_sales  item_50_store_10_sales\n",
       "date                              ...                                               \n",
       "2013-01-02          0          0  ...                   44.0                    37.0\n",
       "2013-01-03          0          0  ...                   29.0                    46.0\n",
       "2013-01-04          0          0  ...                   43.0                    51.0\n",
       "2013-01-05          0          0  ...                   53.0                    41.0\n",
       "2013-01-06          0          0  ...                   38.0                    41.0\n",
       "\n",
       "[5 rows x 1020 columns]"
      ]
     },
     "execution_count": 135,
     "metadata": {
      "tags": []
     },
     "output_type": "execute_result"
    }
   ],
   "source": [
    "df_total.head()"
   ]
  },
  {
   "cell_type": "markdown",
   "metadata": {
    "id": "ejLco1c45bgX"
   },
   "source": [
    "# Preprocessing data\n",
    "\n",
    "The preprocessing data consists of following steps:\n",
    "\n",
    "1. Normalize the lag features which is necessary for ML algorithm.\n",
    "2. Separate the train and test set.\n",
    "3. Split the train set into train and validation. This validation set will be used for tuning the hyperparameters.\n",
    "4. Now the data is ready to be used as input to any machine learning regression method."
   ]
  },
  {
   "cell_type": "code",
   "execution_count": null,
   "metadata": {
    "id": "h38wCHFoFMqc"
   },
   "outputs": [],
   "source": [
    "# Normalizing the data so that it lies between (0,1)\n",
    "\n",
    "scaler = MinMaxScaler()\n",
    "\n",
    "columns_scale = [i for i in df_total.columns if 'weekday' not in i and 'month' not in i]\n",
    "columns_scaled = scaler.fit_transform(df_total[columns_scale])\n",
    "df_total[columns_scale] = columns_scaled\n",
    "\n",
    "# split the train and test sets\n",
    "\n",
    "df_train = df_total[df_total['is_test'] == False].drop('is_test', axis=1)\n",
    "df_test = df_total[df_total['is_test'] == True].drop('is_test', axis=1)\n",
    "\n",
    "# separating 'X' and 'y' variables\n",
    "\n",
    "lag_columns = [i for i in df_train.columns if '_past_' in i]\n",
    "date_columns = [i for i in df_train.columns if 'weekday_' in i or 'month_' in i]\n",
    "final_columns = lag_columns + date_columns\n",
    "\n",
    "X = df_train[final_columns]\n",
    "\n",
    "final_columns_set = set(final_columns)\n",
    "y_columns = [i for i in df_train.columns if i not in final_columns_set]\n",
    "\n",
    "y = df_train[y_columns]"
   ]
  },
  {
   "cell_type": "code",
   "execution_count": null,
   "metadata": {
    "colab": {
     "base_uri": "https://localhost:8080/"
    },
    "executionInfo": {
     "elapsed": 192,
     "status": "ok",
     "timestamp": 1627137043658,
     "user": {
      "displayName": "Rohith Teja",
      "photoUrl": "https://lh3.googleusercontent.com/a-/AOh14Gi3ByILg-htuXhMIDK9-US5Z_24QJpZksJzfZX3=s64",
      "userId": "01155222072916958278"
     },
     "user_tz": -120
    },
    "id": "s0avON4MF3f3",
    "outputId": "91ee71a5-7fc2-44e1-bf31-9b7d189025e1"
   },
   "outputs": [
    {
     "data": {
      "text/plain": [
       "(1825, 519)"
      ]
     },
     "execution_count": 34,
     "metadata": {
      "tags": []
     },
     "output_type": "execute_result"
    }
   ],
   "source": [
    "X.shape # using 519 features for traininig ML model\n",
    "\n",
    "# features include date related features and lag features"
   ]
  },
  {
   "cell_type": "code",
   "execution_count": null,
   "metadata": {
    "colab": {
     "base_uri": "https://localhost:8080/"
    },
    "executionInfo": {
     "elapsed": 2,
     "status": "ok",
     "timestamp": 1627137044689,
     "user": {
      "displayName": "Rohith Teja",
      "photoUrl": "https://lh3.googleusercontent.com/a-/AOh14Gi3ByILg-htuXhMIDK9-US5Z_24QJpZksJzfZX3=s64",
      "userId": "01155222072916958278"
     },
     "user_tz": -120
    },
    "id": "b1b8c7CYF3iS",
    "outputId": "3ad5916b-ffa2-4294-bb46-5f0cf2115845"
   },
   "outputs": [
    {
     "data": {
      "text/plain": [
       "(1825, 500)"
      ]
     },
     "execution_count": 35,
     "metadata": {
      "tags": []
     },
     "output_type": "execute_result"
    }
   ],
   "source": [
    "y.shape # 500 values are to be predicted in each array for 10 stores and 50 items"
   ]
  },
  {
   "cell_type": "code",
   "execution_count": null,
   "metadata": {
    "id": "Gr9Sz_b1F3kt"
   },
   "outputs": [],
   "source": [
    "# split values to train and test, use np arrays to allow reshaping\n",
    "x_train = X.iloc[X.index < \"2017-10-01\", :]\n",
    "y_train = y.iloc[y.index < \"2017-10-01\", :]\n",
    "\n",
    "x_valid = X.iloc[X.index >= \"2017-10-01\", :]\n",
    "y_valid = y.iloc[y.index >= \"2017-10-01\", :]\n",
    "\n",
    "# reshaping the 'X' features in the input format for LSTM\n",
    "\n",
    "x_train_reshape = x_train.values.reshape((x_train.shape[0], 1, x_train.shape[1]))\n",
    "x_valid_reshape = x_valid.values.reshape((x_valid.shape[0], 1, x_valid.shape[1]))"
   ]
  },
  {
   "cell_type": "code",
   "execution_count": null,
   "metadata": {
    "colab": {
     "base_uri": "https://localhost:8080/"
    },
    "executionInfo": {
     "elapsed": 195,
     "status": "ok",
     "timestamp": 1627137476899,
     "user": {
      "displayName": "Rohith Teja",
      "photoUrl": "https://lh3.googleusercontent.com/a-/AOh14Gi3ByILg-htuXhMIDK9-US5Z_24QJpZksJzfZX3=s64",
      "userId": "01155222072916958278"
     },
     "user_tz": -120
    },
    "id": "dGDLaaE9e1qa",
    "outputId": "acf7e43b-0c16-45a0-bde5-631fb7037024"
   },
   "outputs": [
    {
     "data": {
      "text/plain": [
       "(1733, 1, 519)"
      ]
     },
     "execution_count": 42,
     "metadata": {
      "tags": []
     },
     "output_type": "execute_result"
    }
   ],
   "source": [
    "x_train_reshape.shape"
   ]
  },
  {
   "cell_type": "markdown",
   "metadata": {
    "id": "As7NGG2lSy-t"
   },
   "source": [
    "# Model Training\n",
    "\n",
    "1. LSTM was chosen with three hyperparameters namely, *learning_rate* and *epochs* and *batch_size*.\n",
    "2. Optuna integration on the model makes it very simple to tune the hyperparameters based on the validation score. The validation metric that's chosen here is Mean Absolute Error (MAE). We run trials and choose the hyperparameters based on how quicker the algorithm converges to the optimal value.\n",
    "3. For MAE, our objective is to minimize the metric.\n",
    "4. After all the trials, we pick the best model which gives the least validation score (MAE) and this model is used to forecast sales values on test data.\n",
    "5. Optuna shows the most important hyperparameter which helped the method to converge quickly to the optimal solution.\n",
    "6. Metrics like MAE, RMSE (Root Mean Squared Error), and R Squared are used to judge the performance of the best regression model on validation data. As one metric does not tell the same story, it is better to use multiple metrics which have its pros and cons."
   ]
  },
  {
   "cell_type": "code",
   "execution_count": null,
   "metadata": {
    "colab": {
     "base_uri": "https://localhost:8080/"
    },
    "executionInfo": {
     "elapsed": 1364050,
     "status": "ok",
     "timestamp": 1627148137116,
     "user": {
      "displayName": "Rohith Teja",
      "photoUrl": "https://lh3.googleusercontent.com/a-/AOh14Gi3ByILg-htuXhMIDK9-US5Z_24QJpZksJzfZX3=s64",
      "userId": "01155222072916958278"
     },
     "user_tz": -120
    },
    "id": "oEoW7pA69Xlj",
    "outputId": "1f074038-ffde-41fd-cfcf-bda2ad6e91de"
   },
   "outputs": [
    {
     "name": "stderr",
     "output_type": "stream",
     "text": [
      "\u001b[32m[I 2021-07-24 17:12:52,082]\u001b[0m A new study created in memory with name: no-name-526cffdb-8432-4402-8b4e-dd14a04c9a5b\u001b[0m\n",
      "\u001b[32m[I 2021-07-24 17:15:41,493]\u001b[0m Trial 0 finished with value: 6.124717391304348 and parameters: {'learning_rate': 0.0026173199692527682, 'epochs': 400, 'batch_size': 10}. Best is trial 0 with value: 6.124717391304348.\u001b[0m\n"
     ]
    },
    {
     "name": "stdout",
     "output_type": "stream",
     "text": [
      "WARNING:tensorflow:5 out of the last 13 calls to <function Model.make_predict_function.<locals>.predict_function at 0x7f1cf4364950> triggered tf.function retracing. Tracing is expensive and the excessive number of tracings could be due to (1) creating @tf.function repeatedly in a loop, (2) passing tensors with different shapes, (3) passing Python objects instead of tensors. For (1), please define your @tf.function outside of the loop. For (2), @tf.function has experimental_relax_shapes=True option that relaxes argument shapes that can avoid unnecessary retracing. For (3), please refer to https://www.tensorflow.org/guide/function#controlling_retracing and https://www.tensorflow.org/api_docs/python/tf/function for  more details.\n"
     ]
    },
    {
     "name": "stderr",
     "output_type": "stream",
     "text": [
      "\u001b[32m[I 2021-07-24 17:17:50,367]\u001b[0m Trial 1 finished with value: 6.056108695652174 and parameters: {'learning_rate': 0.001134211449144974, 'epochs': 300, 'batch_size': 10}. Best is trial 1 with value: 6.056108695652174.\u001b[0m\n"
     ]
    },
    {
     "name": "stdout",
     "output_type": "stream",
     "text": [
      "WARNING:tensorflow:5 out of the last 13 calls to <function Model.make_predict_function.<locals>.predict_function at 0x7f1d124d7680> triggered tf.function retracing. Tracing is expensive and the excessive number of tracings could be due to (1) creating @tf.function repeatedly in a loop, (2) passing tensors with different shapes, (3) passing Python objects instead of tensors. For (1), please define your @tf.function outside of the loop. For (2), @tf.function has experimental_relax_shapes=True option that relaxes argument shapes that can avoid unnecessary retracing. For (3), please refer to https://www.tensorflow.org/guide/function#controlling_retracing and https://www.tensorflow.org/api_docs/python/tf/function for  more details.\n"
     ]
    },
    {
     "name": "stderr",
     "output_type": "stream",
     "text": [
      "\u001b[32m[I 2021-07-24 17:19:58,992]\u001b[0m Trial 2 finished with value: 10.285260869565215 and parameters: {'learning_rate': 0.012506811447750612, 'epochs': 300, 'batch_size': 10}. Best is trial 1 with value: 6.056108695652174.\u001b[0m\n",
      "\u001b[32m[I 2021-07-24 17:20:44,544]\u001b[0m Trial 3 finished with value: 10.35 and parameters: {'learning_rate': 0.05568854703221366, 'epochs': 300, 'batch_size': 30}. Best is trial 1 with value: 6.056108695652174.\u001b[0m\n",
      "\u001b[32m[I 2021-07-24 17:21:31,436]\u001b[0m Trial 4 finished with value: 6.282021739130435 and parameters: {'learning_rate': 0.006174761209633642, 'epochs': 400, 'batch_size': 40}. Best is trial 1 with value: 6.056108695652174.\u001b[0m\n",
      "\u001b[32m[I 2021-07-24 17:22:18,863]\u001b[0m Trial 5 finished with value: 10.966695652173913 and parameters: {'learning_rate': 0.055265156452276226, 'epochs': 400, 'batch_size': 40}. Best is trial 1 with value: 6.056108695652174.\u001b[0m\n",
      "\u001b[32m[I 2021-07-24 17:23:04,987]\u001b[0m Trial 6 finished with value: 10.634695652173912 and parameters: {'learning_rate': 0.01665248510303448, 'epochs': 300, 'batch_size': 30}. Best is trial 1 with value: 6.056108695652174.\u001b[0m\n",
      "\u001b[32m[I 2021-07-24 17:25:14,794]\u001b[0m Trial 7 finished with value: 10.52708695652174 and parameters: {'learning_rate': 0.03578840892804008, 'epochs': 300, 'batch_size': 10}. Best is trial 1 with value: 6.056108695652174.\u001b[0m\n",
      "\u001b[32m[I 2021-07-24 17:26:01,236]\u001b[0m Trial 8 finished with value: 6.102239130434782 and parameters: {'learning_rate': 0.0014282949069555815, 'epochs': 400, 'batch_size': 40}. Best is trial 1 with value: 6.056108695652174.\u001b[0m\n",
      "\u001b[32m[I 2021-07-24 17:28:52,286]\u001b[0m Trial 9 finished with value: 6.065847826086957 and parameters: {'learning_rate': 0.001990103381631353, 'epochs': 400, 'batch_size': 10}. Best is trial 1 with value: 6.056108695652174.\u001b[0m\n",
      "\u001b[32m[I 2021-07-24 17:29:38,056]\u001b[0m Trial 10 finished with value: 6.02945652173913 and parameters: {'learning_rate': 0.004799610978872257, 'epochs': 200, 'batch_size': 20}. Best is trial 10 with value: 6.02945652173913.\u001b[0m\n",
      "\u001b[32m[I 2021-07-24 17:31:02,722]\u001b[0m Trial 11 finished with value: 6.043847826086956 and parameters: {'learning_rate': 0.004024189280232919, 'epochs': 200, 'batch_size': 20}. Best is trial 10 with value: 6.02945652173913.\u001b[0m\n",
      "\u001b[32m[I 2021-07-24 17:31:47,704]\u001b[0m Trial 12 finished with value: 5.96554347826087 and parameters: {'learning_rate': 0.004560981811045086, 'epochs': 200, 'batch_size': 20}. Best is trial 12 with value: 5.96554347826087.\u001b[0m\n",
      "\u001b[32m[I 2021-07-24 17:32:31,585]\u001b[0m Trial 13 finished with value: 6.279695652173913 and parameters: {'learning_rate': 0.005609187709988312, 'epochs': 200, 'batch_size': 20}. Best is trial 12 with value: 5.96554347826087.\u001b[0m\n",
      "\u001b[32m[I 2021-07-24 17:33:17,407]\u001b[0m Trial 14 finished with value: 10.106391304347826 and parameters: {'learning_rate': 0.008407098313059887, 'epochs': 200, 'batch_size': 20}. Best is trial 12 with value: 5.96554347826087.\u001b[0m\n",
      "\u001b[32m[I 2021-07-24 17:34:02,653]\u001b[0m Trial 15 finished with value: 5.992978260869565 and parameters: {'learning_rate': 0.0036583421830889357, 'epochs': 200, 'batch_size': 20}. Best is trial 12 with value: 5.96554347826087.\u001b[0m\n",
      "\u001b[32m[I 2021-07-24 17:34:23,244]\u001b[0m Trial 16 finished with value: 5.944326086956522 and parameters: {'learning_rate': 0.002616924034573797, 'epochs': 200, 'batch_size': 50}. Best is trial 16 with value: 5.944326086956522.\u001b[0m\n",
      "\u001b[32m[I 2021-07-24 17:34:43,447]\u001b[0m Trial 17 finished with value: 10.143565217391304 and parameters: {'learning_rate': 0.020202448494751397, 'epochs': 200, 'batch_size': 50}. Best is trial 16 with value: 5.944326086956522.\u001b[0m\n",
      "\u001b[32m[I 2021-07-24 17:35:03,992]\u001b[0m Trial 18 finished with value: 6.013695652173912 and parameters: {'learning_rate': 0.002126367083066963, 'epochs': 200, 'batch_size': 50}. Best is trial 16 with value: 5.944326086956522.\u001b[0m\n",
      "\u001b[32m[I 2021-07-24 17:35:35,851]\u001b[0m Trial 19 finished with value: 6.307891304347826 and parameters: {'learning_rate': 0.001120077097643392, 'epochs': 200, 'batch_size': 30}. Best is trial 16 with value: 5.944326086956522.\u001b[0m\n"
     ]
    },
    {
     "name": "stdout",
     "output_type": "stream",
     "text": [
      "Study statistics: \n",
      "  Number of finished trials:  20\n",
      "  Number of pruned trials:  0\n",
      "  Number of complete trials:  20\n",
      "Best trial:\n",
      "  Value:  5.944326086956522\n",
      "  Params: \n",
      "    learning_rate: 0.002616924034573797\n",
      "    epochs: 200\n",
      "    batch_size: 50\n"
     ]
    }
   ],
   "source": [
    "'''\n",
    "Optuna picks the hyperparameters based on the step size and begins to do trials by\n",
    "selecting random hyperparameters at first and as we calculate the metrics, it tries to\n",
    "select hyperparameters which will minimize/ maximize the given metric.\n",
    "\n",
    "In our case, we used the MAE metric which should be minimized.\n",
    "'''\n",
    "\n",
    "def unscale(y, concat_df):\n",
    "    \"\"\"\n",
    "    Inverse transform the normalized values\n",
    "    \"\"\"\n",
    "    temp = concat_df.copy()\n",
    "    temp[y_columns] = pd.DataFrame(y, index=temp.index)\n",
    "    temp[columns_scale] = scaler.inverse_transform(temp[columns_scale])\n",
    " \n",
    "    return temp[y_columns].astype(int)\n",
    "\n",
    "def objective(trial):\n",
    "\n",
    "  learning_rate = trial.suggest_float(\"learning_rate\", 1e-3, 1e-1, log=True)\n",
    "  epochs = trial.suggest_int(\"epochs\", 200, 400,step=100, log=False)\n",
    "  batch_size = trial.suggest_int(\"batch_size\", 10, 50,step=10, log=False)\n",
    "\n",
    "  model = Sequential()\n",
    "  model.add(LSTM(4, input_shape=(x_train_reshape.shape[1], x_train_reshape.shape[2])))\n",
    "  model.add(Dense(y_train.shape[1]))\n",
    "  model.compile(loss='mean_absolute_error', optimizer=Adam(learning_rate=learning_rate))\n",
    "  model.fit(x_train_reshape, y_train.values, epochs=epochs, batch_size=batch_size, verbose=0)\n",
    "\n",
    "  # make predictions\n",
    "  y_pred = model.predict(x_valid_reshape)\n",
    "\n",
    "  # inverse transform\n",
    "  concat_df = pd.concat([x_valid, y_valid], axis=1)\n",
    "  concat_df['is_test'] = np.repeat(True, concat_df.shape[0])\n",
    "\n",
    "  validation_pred = unscale(y_pred, concat_df)\n",
    "  validation_actual = unscale(y_valid, concat_df)\n",
    "\n",
    "  mae = mean_absolute_error(validation_pred, validation_actual)\n",
    "\n",
    "\n",
    "  # Handle pruning based on the intermediate value\n",
    "  if trial.should_prune():\n",
    "      raise optuna.exceptions.TrialPruned()\n",
    "\n",
    "  return mae\n",
    "\n",
    "\n",
    "study = optuna.create_study(direction=\"minimize\")\n",
    "study.optimize(objective, n_trials=20, timeout=None)\n",
    "\n",
    "pruned_trials = study.get_trials(deepcopy=False, states=[TrialState.PRUNED])\n",
    "complete_trials = study.get_trials(deepcopy=False, states=[TrialState.COMPLETE])\n",
    "\n",
    "print(\"Study statistics: \")\n",
    "print(\"  Number of finished trials: \", len(study.trials))\n",
    "print(\"  Number of pruned trials: \", len(pruned_trials))\n",
    "print(\"  Number of complete trials: \", len(complete_trials))\n",
    "\n",
    "print(\"Best trial:\")\n",
    "trial = study.best_trial\n",
    "\n",
    "print(\"  Value: \", trial.value)\n",
    "\n",
    "print(\"  Params: \")\n",
    "for key, value in trial.params.items():\n",
    "    print(\"    {}: {}\".format(key, value))\n",
    "\n",
    "best_params = study.best_trial.params"
   ]
  },
  {
   "cell_type": "code",
   "execution_count": null,
   "metadata": {
    "colab": {
     "base_uri": "https://localhost:8080/",
     "height": 284
    },
    "executionInfo": {
     "elapsed": 691,
     "status": "ok",
     "timestamp": 1627148641479,
     "user": {
      "displayName": "Rohith Teja",
      "photoUrl": "https://lh3.googleusercontent.com/a-/AOh14Gi3ByILg-htuXhMIDK9-US5Z_24QJpZksJzfZX3=s64",
      "userId": "01155222072916958278"
     },
     "user_tz": -120
    },
    "id": "Nb-lk5ngndMl",
    "outputId": "6cbf6d7d-2ef2-48cf-99b6-fc154ed7eeea"
   },
   "outputs": [
    {
     "data": {
      "text/plain": [
       "<matplotlib.axes._subplots.AxesSubplot at 0x7f1ceaf350d0>"
      ]
     },
     "execution_count": 26,
     "metadata": {
      "tags": []
     },
     "output_type": "execute_result"
    },
    {
     "data": {
      "image/png": "[encoded data removed]",
      "text/plain": [
       "<Figure size 432x288 with 1 Axes>"
      ]
     },
     "metadata": {
      "needs_background": "light",
      "tags": []
     },
     "output_type": "display_data"
    }
   ],
   "source": [
    "'''\n",
    "This plot shows the feature importance during the training \n",
    "process. It means that tuning learning rate is more important to\n",
    "find the optimal solution than tuning other hyperparameters.\n",
    "'''\n",
    "\n",
    "D = optuna.importance.get_param_importances(study)\n",
    "plt.figure()\n",
    "sns.barplot(x = list(D.keys()),y =  list(D.values()))"
   ]
  },
  {
   "cell_type": "code",
   "execution_count": null,
   "metadata": {
    "colab": {
     "base_uri": "https://localhost:8080/"
    },
    "executionInfo": {
     "elapsed": 25507,
     "status": "ok",
     "timestamp": 1627148236838,
     "user": {
      "displayName": "Rohith Teja",
      "photoUrl": "https://lh3.googleusercontent.com/a-/AOh14Gi3ByILg-htuXhMIDK9-US5Z_24QJpZksJzfZX3=s64",
      "userId": "01155222072916958278"
     },
     "user_tz": -120
    },
    "id": "BULPKiboX9wJ",
    "outputId": "51c6dc6b-c232-4f3a-ce7e-0217a64eb473"
   },
   "outputs": [
    {
     "name": "stderr",
     "output_type": "stream",
     "text": [
      "WARNING:absl:Found untraced functions such as lstm_cell_26_layer_call_fn, lstm_cell_26_layer_call_and_return_conditional_losses, lstm_cell_26_layer_call_fn, lstm_cell_26_layer_call_and_return_conditional_losses, lstm_cell_26_layer_call_and_return_conditional_losses while saving (showing 5 of 5). These functions will not be directly callable after loading.\n"
     ]
    },
    {
     "name": "stdout",
     "output_type": "stream",
     "text": [
      "INFO:tensorflow:Assets written to: saved_models/lstm.model/assets\n"
     ]
    },
    {
     "name": "stderr",
     "output_type": "stream",
     "text": [
      "INFO:tensorflow:Assets written to: saved_models/lstm.model/assets\n"
     ]
    },
    {
     "name": "stdout",
     "output_type": "stream",
     "text": [
      "MAE:  6.055217391304348\n",
      "RMSE:  8.006326302966\n",
      "R2:  0.2537097973025854\n"
     ]
    }
   ],
   "source": [
    "# rerun model with optimal hyperparameters \n",
    "\n",
    "\n",
    "model = Sequential()\n",
    "model.add(LSTM(4, input_shape=(x_train_reshape.shape[1], x_train_reshape.shape[2])))\n",
    "model.add(Dense(y_train.shape[1]))\n",
    "model.compile(loss='mean_absolute_error', optimizer=Adam(learning_rate=best_params['learning_rate']))\n",
    "model.fit(x_train_reshape, y_train.values, epochs=best_params['epochs'], batch_size=best_params['batch_size'], verbose=0)\n",
    "\n",
    "# make predictions\n",
    "y_pred = model.predict(x_valid_reshape)\n",
    "\n",
    "# inverse transform\n",
    "concat_df = pd.concat([x_valid, y_valid], axis=1)\n",
    "concat_df['is_test'] = np.repeat(True, concat_df.shape[0])\n",
    "\n",
    "validation_pred = unscale(y_pred, concat_df)\n",
    "validation_actual = unscale(y_valid, concat_df)\n",
    "\n",
    "model.save('saved_models/lstm.model')\n",
    "\n",
    "print('MAE: ',mean_absolute_error(validation_pred, validation_actual))\n",
    "print('RMSE: ',sqrt(mean_squared_error(validation_pred, validation_actual)))\n",
    "print('R2: ',r2_score(validation_pred, validation_actual))"
   ]
  },
  {
   "cell_type": "markdown",
   "metadata": {
    "id": "9k6VdB0uZyIb"
   },
   "source": [
    "# Plots relating to Sales forecast on validation set and test set\n",
    "\n",
    "Just as in the plots in XGBoost notebook, first plot shows the plot of one store and one item (specifically store 1, item 1) of validation set (actual and predicted)\n",
    "\n",
    "Second plot aggregates the sales values of every store and item to make a visualization of sales values of all stores and items (of validation set (actual and predicted))\n",
    "\n",
    "Third plot shows sales values and predictions on validation and test set, along with the visualization for train set sales values"
   ]
  },
  {
   "cell_type": "code",
   "execution_count": null,
   "metadata": {
    "colab": {
     "base_uri": "https://localhost:8080/",
     "height": 350
    },
    "executionInfo": {
     "elapsed": 787,
     "status": "ok",
     "timestamp": 1627158513601,
     "user": {
      "displayName": "Rohith Teja",
      "photoUrl": "https://lh3.googleusercontent.com/a-/AOh14Gi3ByILg-htuXhMIDK9-US5Z_24QJpZksJzfZX3=s64",
      "userId": "01155222072916958278"
     },
     "user_tz": -120
    },
    "id": "NJ3hRtgXkR6x",
    "outputId": "dbd0a429-5555-466c-aae9-d5576ef79443"
   },
   "outputs": [
    {
     "data": {
      "image/png": "[encoded data removed]",
      "text/plain": [
       "<Figure size 1080x360 with 1 Axes>"
      ]
     },
     "metadata": {
      "needs_background": "light",
      "tags": []
     },
     "output_type": "display_data"
    }
   ],
   "source": [
    "'''\n",
    "Plot showing the actual values and predicted values for the validation set.\n",
    "The data includes 3 month sales values.\n",
    "\n",
    "Since it is difficult to plot all predictions in one plot, forecast of one \n",
    "store and one item is chosen.\n",
    "\n",
    "The plot below this shows visualization of aggregated values.\n",
    "\n",
    "'''\n",
    "\n",
    "fig, ax = plt.subplots(figsize=(15,5))\n",
    "sns.lineplot(data=validation_actual['item_1_store_1_sales'], ax=ax, \n",
    "              label='Original', color='blue')\n",
    "sns.lineplot(data=validation_pred['item_1_store_1_sales'], ax=ax, \n",
    "              label='Valid Predicted', color='Red')\n",
    "\n",
    "\n",
    "ax.set(xlabel = \"Date\",\n",
    "        ylabel = \"Sales\",\n",
    "        title = \"Sales Forecasting Using LSTM (One example)\")\n",
    "\n",
    "ax.legend()\n",
    "plt.savefig( 'images/lstm-train-valid-single.jpg', bbox_inches='tight', dpi=200)\n",
    "\n",
    "\n",
    "sns.despine()"
   ]
  },
  {
   "cell_type": "code",
   "execution_count": null,
   "metadata": {
    "colab": {
     "base_uri": "https://localhost:8080/",
     "height": 350
    },
    "executionInfo": {
     "elapsed": 654,
     "status": "ok",
     "timestamp": 1627158505365,
     "user": {
      "displayName": "Rohith Teja",
      "photoUrl": "https://lh3.googleusercontent.com/a-/AOh14Gi3ByILg-htuXhMIDK9-US5Z_24QJpZksJzfZX3=s64",
      "userId": "01155222072916958278"
     },
     "user_tz": -120
    },
    "id": "qy1jMnfXmbHK",
    "outputId": "8675c1a5-d69f-4c2f-c922-cf755a345d71"
   },
   "outputs": [
    {
     "data": {
      "image/png": "[encoded data removed]",
      "text/plain": [
       "<Figure size 1080x360 with 1 Axes>"
      ]
     },
     "metadata": {
      "needs_background": "light",
      "tags": []
     },
     "output_type": "display_data"
    }
   ],
   "source": [
    "'''\n",
    "Visualization of aggregated sales values\n",
    "\n",
    "The model performs better for global/ aggregated insights than\n",
    "individual forecasts.\n",
    "'''\n",
    "\n",
    "fig, ax = plt.subplots(figsize=(15,5))\n",
    "sns.lineplot(data=validation_actual.mean(axis=1), ax=ax, \n",
    "              label='Original', color='blue')\n",
    "sns.lineplot(data=validation_pred.mean(axis=1), ax=ax, \n",
    "              label='Valid Predicted', color='Red')\n",
    "\n",
    "\n",
    "ax.set(xlabel = \"Date\",\n",
    "        ylabel = \"Sales\",\n",
    "        title = \"Sales Forecasting Using LSTM (aggregated)\")\n",
    "\n",
    "ax.legend()\n",
    "plt.savefig( 'images/lstm-train-valid-agg.jpg', bbox_inches='tight', dpi=200)\n",
    "\n",
    "\n",
    "sns.despine()"
   ]
  },
  {
   "cell_type": "code",
   "execution_count": null,
   "metadata": {
    "colab": {
     "base_uri": "https://localhost:8080/"
    },
    "executionInfo": {
     "elapsed": 490,
     "status": "ok",
     "timestamp": 1627158435438,
     "user": {
      "displayName": "Rohith Teja",
      "photoUrl": "https://lh3.googleusercontent.com/a-/AOh14Gi3ByILg-htuXhMIDK9-US5Z_24QJpZksJzfZX3=s64",
      "userId": "01155222072916958278"
     },
     "user_tz": -120
    },
    "id": "Z-77oEnCmbJY",
    "outputId": "784457da-5f43-47e0-ae63-0b5ba53ead55"
   },
   "outputs": [
    {
     "name": "stderr",
     "output_type": "stream",
     "text": [
      "/usr/local/lib/python3.7/dist-packages/pandas/core/frame.py:4174: SettingWithCopyWarning:\n",
      "\n",
      "\n",
      "A value is trying to be set on a copy of a slice from a DataFrame\n",
      "\n",
      "See the caveats in the documentation: https://pandas.pydata.org/pandas-docs/stable/user_guide/indexing.html#returning-a-view-versus-a-copy\n",
      "\n"
     ]
    }
   ],
   "source": [
    "# prediction on test set\n",
    "\n",
    "test_set = df_test[final_columns]\n",
    "test_set_reshape = test_set.values.reshape((test_set.shape[0], 1, test_set.shape[1]))\n",
    "\n",
    "y_pred_test = model.predict(test_set_reshape)\n",
    "\n",
    "temp = y_valid\n",
    "temp.drop(temp.index[[1,2]], inplace=True)\n",
    "temp.set_index(test_set.index, inplace=True)\n",
    "\n",
    "\n",
    "# inverse transform\n",
    "concat_df = pd.concat([test_set, temp], axis=1)\n",
    "concat_df['is_test'] = np.repeat(True, concat_df.shape[0])\n",
    "\n",
    "test_pred = unscale(y_pred_test, concat_df)"
   ]
  },
  {
   "cell_type": "code",
   "execution_count": null,
   "metadata": {
    "id": "tn2rP79aslfY"
   },
   "outputs": [],
   "source": [
    "test_pred.to_csv('predictions_lstm.csv')"
   ]
  },
  {
   "cell_type": "code",
   "execution_count": null,
   "metadata": {
    "colab": {
     "base_uri": "https://localhost:8080/",
     "height": 350
    },
    "executionInfo": {
     "elapsed": 1389,
     "status": "ok",
     "timestamp": 1627158489373,
     "user": {
      "displayName": "Rohith Teja",
      "photoUrl": "https://lh3.googleusercontent.com/a-/AOh14Gi3ByILg-htuXhMIDK9-US5Z_24QJpZksJzfZX3=s64",
      "userId": "01155222072916958278"
     },
     "user_tz": -120
    },
    "id": "kia5QfyxGK-h",
    "outputId": "9bec6923-b105-4351-99aa-b0fd90b1375b"
   },
   "outputs": [
    {
     "data": {
      "image/png": "[encoded data removed]",
      "text/plain": [
       "<Figure size 1080x360 with 1 Axes>"
      ]
     },
     "metadata": {
      "needs_background": "light",
      "tags": []
     },
     "output_type": "display_data"
    }
   ],
   "source": [
    "'''\n",
    "Visualization of aggregated sales values of train, valid and test data\n",
    "\n",
    "The model performs better for global/ aggregated insights than\n",
    "individual forecasts.\n",
    "\n",
    "From the visualization we can see that LSTM model does not perform better at the \n",
    "test time.\n",
    "\n",
    "'''\n",
    "\n",
    "train_df = pd.read_csv('data/train.csv')\n",
    "train_df = datetime(train_df)\n",
    "\n",
    "fig, ax = plt.subplots(figsize=(15,5))\n",
    "sns.lineplot(data=train_df.resample('D').sum().sales, ax=ax, \n",
    "              label='Original', color='blue')\n",
    "sns.lineplot(data=validation_pred.sum(axis=1), ax=ax, \n",
    "              label='Validation Predicted', color='Red')\n",
    "sns.lineplot(data=test_pred.sum(axis=1), ax=ax, \n",
    "              label='Test Predicted', color='green')\n",
    "\n",
    "\n",
    "ax.set(xlabel = \"Date\",\n",
    "        ylabel = \"Sales\",\n",
    "        title = \"Sales Forecasting Using LSTM (aggregated)\")\n",
    "\n",
    "ax.legend()\n",
    "plt.savefig( 'images/lstm-alldata.jpg', bbox_inches='tight', dpi=200)\n",
    "\n",
    "\n",
    "sns.despine()"
   ]
  },
  {
   "cell_type": "code",
   "execution_count": null,
   "metadata": {
    "id": "wNPT8On4GLGj"
   },
   "outputs": [],
   "source": []
  }
 ],
 "metadata": {
  "accelerator": "GPU",
  "colab": {
   "authorship_tag": "ABX9TyORxeGhNo4AgAtpHlkN/XJA",
   "collapsed_sections": [],
   "mount_file_id": "1_4zHJ-aNYLATJjAedOue7xeA1E7Hr3_R",
   "name": "Case 1_ Prediction with LSTM.ipynb",
   "provenance": []
  },
  "kernelspec": {
   "display_name": "Python 3",
   "language": "python",
   "name": "python3"
  },
  "language_info": {
   "codemirror_mode": {
    "name": "ipython",
    "version": 3
   },
   "file_extension": ".py",
   "mimetype": "text/x-python",
   "name": "python",
   "nbconvert_exporter": "python",
   "pygments_lexer": "ipython3",
   "version": "3.8.5"
  }
 },
 "nbformat": 4,
 "nbformat_minor": 1
}
